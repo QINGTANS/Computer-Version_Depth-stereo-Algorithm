{
 "cells": [
  {
   "cell_type": "markdown",
   "id": "527c42b5",
   "metadata": {},
   "source": [
    "<font color=black size=5>CV 109</font>"
   ]
  },
  {
   "cell_type": "markdown",
   "id": "e9ed0f52",
   "metadata": {},
   "source": [
    "<font color=black size=5>Information: Qingtan Shen (1130945)</font>"
   ]
  },
  {
   "cell_type": "markdown",
   "id": "2dc523f0",
   "metadata": {},
   "source": [
    "<font color=black size=5>Import Packages</font>"
   ]
  },
  {
   "cell_type": "code",
   "execution_count": 298,
   "id": "1ca6b80c",
   "metadata": {},
   "outputs": [],
   "source": [
    "import numpy as np\n",
    "import cv2\n",
    "import os\n",
    "import time\n",
    "import matplotlib.pyplot as plt"
   ]
  },
  {
   "cell_type": "markdown",
   "id": "0340a770",
   "metadata": {},
   "source": [
    "<font color=black size=5>Upload Files</font>"
   ]
  },
  {
   "cell_type": "code",
   "execution_count": 299,
   "id": "9c783db3",
   "metadata": {},
   "outputs": [],
   "source": [
    "# get filenames\n",
    "# you should change the location of these images, and the codes below will get the filename list automatically\n",
    "direct = '/Users/apple/Desktop/COMP90086/Dataset'\n",
    "file_name = os.listdir(direct)\n",
    "image_name = []\n",
    "for one in file_name:\n",
    "    if len(one.split('disparity')) > 1:\n",
    "        image_name.append(one.split('disparity')[0])\n",
    "\n",
    "left_images = []\n",
    "right_images = []\n",
    "disparity_images = []\n",
    "for i in image_name:\n",
    "    left = i + 'left.jpg'\n",
    "    left_images.append(left)\n",
    "    right = i + 'right.jpg'\n",
    "    right_images.append(right)\n",
    "    disparity = i + 'disparity.png'\n",
    "    disparity_images.append(disparity)"
   ]
  },
  {
   "cell_type": "markdown",
   "id": "d5dfbdf8",
   "metadata": {},
   "source": [
    "<font color=black size=5>the Baseline Algorithm Function</font>"
   ]
  },
  {
   "cell_type": "code",
   "execution_count": 300,
   "id": "7a1e31c6",
   "metadata": {},
   "outputs": [],
   "source": [
    "# the baseline algorithm function\n",
    "def baseline_model_NCC(left_name, right_name, window_size):\n",
    "    r_array = []\n",
    "\n",
    "    remain_row = len(left_name) - int(len(left_name) / window_size) * window_size\n",
    "    remain_col = len(left_name[0]) - int(len(left_name[0]) / window_size) * window_size\n",
    "    row_length = int(len(left_name) / window_size)\n",
    "    col_length = int(len(left_name[0]) / window_size)\n",
    "\n",
    "    for i in range(row_length):\n",
    "        r_line_array = []\n",
    "        for j in range(col_length):\n",
    "            r_list = []\n",
    "            r_list.append([right[i][j], right[i][j + 1], right[i][j + 2], right[i][j + 3],\n",
    "                           right[i + 1][j], right[i + 1][j + 1], right[i + 1][j + 2], right[i + 1][j + 3],\n",
    "                           right[i + 2][j], right[i + 2][j + 1], right[i + 2][j + 2], right[i + 2][j + 3],\n",
    "                           right[i + 3][j], right[i + 3][j + 1], right[i + 3][j + 2], right[i + 3][j + 3]])\n",
    "            r_line_array.append(r_list[0])\n",
    "        r_array.append(r_line_array)\n",
    "    r_array = np.array(r_array)\n",
    "\n",
    "    last_position = []\n",
    "    for i in range(row_length):\n",
    "        x_position = []\n",
    "        for j in range(col_length):\n",
    "            l_list = []\n",
    "            l_list.append([left[i][j], left[i][j + 1], left[i][j + 2], left[i][j + 3],\n",
    "                           left[i + 1][j], left[i + 1][j + 1], left[i + 1][j + 2], left[i + 1][j + 3],\n",
    "                           left[i + 2][j], left[i + 2][j + 1], left[i + 2][j + 2], left[i + 2][j + 3],\n",
    "                           left[i + 3][j], left[i + 3][j + 1], left[i + 3][j + 2], left[i + 3][j + 3]])\n",
    "            l_array = np.array(l_list[0])\n",
    "            # k is the group of 16 elements \n",
    "            # choose 16 pixels from different positions in one window, instead of using all pixels in the window, \n",
    "            # which shows a better and efficient result\n",
    "            max_value = -1000\n",
    "            posiX = -1\n",
    "            for k in range(len(r_array[i][0])):\n",
    "                if (np.sqrt(sum(l_array ** 2)) * np.sqrt(sum(r_array[i][k] ** 2))) == 0:\n",
    "                    value = 0\n",
    "                else:\n",
    "                    value = sum(l_array * r_array[i][k]) / (np.sqrt(sum(l_array ** 2)) * np.sqrt(sum(r_array[i][k] ** 2)))\n",
    "                if value > max_value:\n",
    "                    max_value = value\n",
    "                    posiX = k\n",
    "            lo = 1\n",
    "            while lo <= window_size:\n",
    "                x_position.append(posiX)\n",
    "                lo += 1\n",
    "        if remain_col > 0:\n",
    "            p = remain_col\n",
    "            while p > 0:\n",
    "                x_position.append(0)\n",
    "                p -= 1\n",
    "                \n",
    "        last_position.append(x_position)\n",
    "\n",
    "    position_array = np.array(last_position)\n",
    "    final_distance = []\n",
    "    left_position = []\n",
    "    for i in range(col_length):\n",
    "        lo1 = 1\n",
    "        while lo1 <= window_size:\n",
    "            left_position.append(i)\n",
    "            lo1 += 1\n",
    "    \n",
    "    if remain_col > 0:\n",
    "        p1 = remain_col\n",
    "        while p1 > 0:\n",
    "            left_position.append(0)\n",
    "            p1 -= 1\n",
    "            \n",
    "    for i in range(row_length):\n",
    "        loc = 1\n",
    "        while loc <= window_size:\n",
    "            final_distance.append(np.abs(position_array[i] - left_position) * window_size)\n",
    "            loc += 1\n",
    "            \n",
    "    if remain_row > 0:\n",
    "        q1 = remain_row\n",
    "        add_row = []\n",
    "        while q1 > 0:\n",
    "            for i in range(left_name[0]):\n",
    "                add_row.append(0)\n",
    "            final_distance.append(np.array(add_row))\n",
    "            q1 -= 1   \n",
    "    \n",
    "    return final_distance"
   ]
  },
  {
   "cell_type": "markdown",
   "id": "4ee2d2a0",
   "metadata": {},
   "source": [
    "<font color=black size=5>Create Functions For the New Algorithm</font>"
   ]
  },
  {
   "cell_type": "code",
   "execution_count": 301,
   "id": "30b06ff8",
   "metadata": {},
   "outputs": [],
   "source": [
    "# the new algorithm (functions)\n",
    "\n",
    "# get peak pairs function\n",
    "def get_pair_nodes(l_list, r_list):\n",
    "    already = []\n",
    "    pair_list = []\n",
    "    peak_distance = []\n",
    "    for l_node in l_list:\n",
    "        lr_distance = 1000\n",
    "        find_one = False\n",
    "        for r_node in r_list:\n",
    "            if r_node < l_node and l_node - r_node < 80 and r_node not in already:\n",
    "                find_one = True\n",
    "                if l_node - r_node < lr_distance:\n",
    "                    lr_distance = l_node - r_node\n",
    "                    best_fit = r_node\n",
    "        # if we find a good pair of left node\n",
    "        if find_one == True:\n",
    "            pair_list.append((l_node, best_fit))\n",
    "            already.append(best_fit)\n",
    "            peak_distance.append(lr_distance)\n",
    "\n",
    "    return (pair_list, peak_distance)\n",
    "\n",
    "# get range pairs function\n",
    "def get_ranges(l_gradient, r_gradient, pair_nodes):\n",
    "    # set four restrictions and trace them in the loop\n",
    "    ldl_res = 0\n",
    "    ldr_res = 0\n",
    "    if len(pair_nodes) >= 2:\n",
    "        rdl_res = pair_nodes[1][0]\n",
    "        rdr_res = pair_nodes[1][1]\n",
    "    else:\n",
    "        rdl_res = len(l_gradient)\n",
    "        rdr_res = len(l_gradient)\n",
    "    l_range = []\n",
    "    r_range = []\n",
    "    for i in range(len(pair_nodes)):\n",
    "        # left check direction\n",
    "        xlp = pair_nodes[i][0]\n",
    "        ylp = pair_nodes[i][1]\n",
    "        lldcp = xlp - 1\n",
    "        rldcp = ylp - 1\n",
    "        lrdcp = xlp + 1\n",
    "        rrdcp = ylp + 1\n",
    "        xlnode = xlp\n",
    "        xrnode = xlp\n",
    "        ylnode = ylp\n",
    "        yrnode = ylp\n",
    "\n",
    "        # consider left direction\n",
    "        while (abs(l_gradient[lldcp] - r_gradient[rldcp]) <= 15 and lldcp > ldl_res and rldcp > ldr_res):\n",
    "            xlnode = lldcp\n",
    "            ylnode = rldcp\n",
    "            lldcp -= 1\n",
    "            rldcp -= 1\n",
    "\n",
    "        # consider right direction\n",
    "        while ((lrdcp < len(l_gradient)) and (rrdcp < len(l_gradient)) and abs(\n",
    "                l_gradient[lrdcp] - r_gradient[rrdcp]) <= 15 and lrdcp < rdl_res and rrdcp < rdr_res):\n",
    "            xrnode = lrdcp\n",
    "            yrnode = rrdcp\n",
    "            lrdcp += 1\n",
    "            rrdcp += 1\n",
    "        l_range.append((xlnode, xrnode))\n",
    "        r_range.append((ylnode, yrnode))\n",
    "        ldl_res = lrdcp\n",
    "        ldr_res = rrdcp\n",
    "\n",
    "        if i + 2 < len(pair_nodes):\n",
    "            rdl_res = pair_nodes[i + 2][0]\n",
    "            rdr_res = pair_nodes[i + 2][1]\n",
    "        else:\n",
    "            rdl_res = len(l_gradient)\n",
    "            rdr_res = len(r_gradient)\n",
    "\n",
    "    return (l_range, r_range)\n",
    "\n",
    "# operation after knowing peak pairs and range pairs\n",
    "def final_operation(middle_step, peak_distance, long_size):\n",
    "    final_range = []\n",
    "    final_distance = []\n",
    "    l_range = middle_step[0]\n",
    "    r_range = middle_step[1]\n",
    "\n",
    "    # consider start of left range:\n",
    "    if l_range != []:\n",
    "        if l_range[0][0] > 0:\n",
    "            final_range.append((0, l_range[0][0] - 1))\n",
    "            final_distance.append(l_range[0][0] - r_range[0][0])\n",
    "        for i in range(len(l_range)):\n",
    "            final_range.append((l_range[i][0], l_range[i][1]))\n",
    "            final_distance.append(peak_distance[i])\n",
    "            if i + 1 < len(l_range):\n",
    "                if l_range[i + 1][0] - l_range[i][1] > 1:\n",
    "                    final_range.append((l_range[i][1] + 1, l_range[i + 1][0] - 1))\n",
    "                    final_distance.append(round(((l_range[i][1] - r_range[i][1]) + \n",
    "                                                 (l_range[i + 1][0] - r_range[i + 1][0])) / 2))\n",
    "            else:\n",
    "                if l_range[i][1] < long_size:\n",
    "                    final_range.append((l_range[i][1], long_size))\n",
    "                    final_distance.append(l_range[i][1] - r_range[i][1])\n",
    "    else:\n",
    "        final_range.append((0, long_size))\n",
    "        final_distance.append(0)\n",
    "\n",
    "    return (final_range, final_distance)\n",
    "\n",
    "# do derivative calculation and combine the three functions above in this single function, as the main function of our new algorithm\n",
    "def new_approach(gau_left, gau_right, row_num, col_length):\n",
    "    # after: delete the first node to be the after list\n",
    "    l_af = np.delete(gau_left[row_num], 0)\n",
    "    l_af = l_af.astype(int)\n",
    "    # before: delete the last node to be the first list\n",
    "    l_be = np.delete(gau_left[row_num], len(gau_left[0]) - 1)\n",
    "    l_be = l_be.astype(int)\n",
    "    l_gradience = l_af - l_be\n",
    "\n",
    "    r_af = np.delete(gau_right[row_num], 0)\n",
    "    r_af = r_af.astype(int)\n",
    "    # before: delete the last node to be the first list\n",
    "    r_be = np.delete(gau_right[row_num], len(gau_right[0]) - 1)\n",
    "    r_be = r_be.astype(int)\n",
    "    r_gradience = r_af - r_be\n",
    "\n",
    "    l_higher = []\n",
    "    i = 0\n",
    "    while i < len(l_gradience):\n",
    "        if l_gradience[i] >= 3:\n",
    "            l_higher.append(i)\n",
    "            i += 10\n",
    "        else:\n",
    "            i += 1\n",
    "\n",
    "    r_higher = []\n",
    "    z = 0\n",
    "    while z < len(r_gradience):\n",
    "        if r_gradience[z] >= 3:\n",
    "            r_higher.append(z)\n",
    "            z += 10\n",
    "        else:\n",
    "            z += 1\n",
    "\n",
    "    pair_nodes = get_pair_nodes(l_higher, r_higher)[0]\n",
    "    peak_distance = get_pair_nodes(l_higher, r_higher)[1]\n",
    "    pair_ranges = get_ranges(l_gradience, r_gradience, pair_nodes)\n",
    "    range_distance = final_operation(pair_ranges, peak_distance, col_length)\n",
    "\n",
    "    # change the format of the result\n",
    "    dis_result = []\n",
    "    for j in range(len(range_distance[0])):\n",
    "        num = range_distance[0][j][1] - range_distance[0][j][0] + 1\n",
    "        dis_result += num * [range_distance[1][j]]\n",
    "    if len(range_distance[0]) == 1:\n",
    "        dis_result.append(0)\n",
    "\n",
    "    return dis_result\n",
    "\n",
    "# a small step when doing vertical smoothing\n",
    "def get_mode(alist):\n",
    "    dict_num = {}\n",
    "    for i in range(len(alist)):\n",
    "        if alist[i] not in dict_num.keys():\n",
    "            dict_num[alist[i]] = 1\n",
    "        else:\n",
    "            dict_num[alist[i]] += 1\n",
    "    max_v = 0\n",
    "    best_value = -1\n",
    "\n",
    "    key_list = []\n",
    "    for z in dict_num:\n",
    "        key_list.append(z)\n",
    "\n",
    "    for j in key_list:\n",
    "        if dict_num[j] > max_v:\n",
    "            max_v = dict_num[j]\n",
    "            best_value = j\n",
    "\n",
    "    # two conditions: all values are not the same, or some values are the same\n",
    "    if max_v == 1:\n",
    "        best_value = alist[int((len(alist) - 1) / 2)]\n",
    "    # second condition already calculated in the loop\n",
    "    return best_value\n",
    "\n",
    "\n",
    "# let the vertical smooth size is 5\n",
    "# main function for vertical smoothing \n",
    "def vertical_smooth(image):\n",
    "    oper_array = np.array(image).T\n",
    "    new_list = []\n",
    "    for i in oper_array:\n",
    "        now_new_list = []\n",
    "        # first one : consider 0,1,2,3,4\n",
    "        now_new_list.append(i[0])\n",
    "        now_new_list.append(i[1])\n",
    "        least = 2\n",
    "        # last one : consider 395,396,397,398,399\n",
    "        last = len(image) - 3\n",
    "        # initialize i\n",
    "        j = least\n",
    "        while j <= last:\n",
    "            now_list = [i[j - 2], i[j - 1], i[j], i[j + 1], i[j + 2]]\n",
    "            now_best = get_mode(now_list)\n",
    "            now_new_list.append(now_best)\n",
    "            j += 1\n",
    "            \n",
    "        now_new_list.append(i[len(image) - 2])\n",
    "        now_new_list.append(i[len(image) - 1])\n",
    "        new_list.append(now_new_list)\n",
    "\n",
    "    return new_list"
   ]
  },
  {
   "cell_type": "markdown",
   "id": "98d00bd3",
   "metadata": {},
   "source": [
    "<font color=black size=5>the RMS Test Function</font>"
   ]
  },
  {
   "cell_type": "code",
   "execution_count": 302,
   "id": "e38719bd",
   "metadata": {},
   "outputs": [],
   "source": [
    "# test RMS code\n",
    "def get_square_error(getting_result, test_array):\n",
    "    n = 0\n",
    "    the_sum = 0\n",
    "    for i in range(len(test_array)):\n",
    "        for j in range(len(test_array[i])):\n",
    "            if test_array[i][j] != 0:\n",
    "                the_sum += (getting_result[i][j]-test_array[i][j])**2\n",
    "                n += 1\n",
    "    RMS = np.sqrt(the_sum / n)\n",
    "    return RMS"
   ]
  },
  {
   "cell_type": "markdown",
   "id": "040e2a44",
   "metadata": {},
   "source": [
    "<font color=black size=5>the Fraction Calculation Function</font>"
   ]
  },
  {
   "cell_type": "code",
   "execution_count": 303,
   "id": "45511ec0",
   "metadata": {},
   "outputs": [],
   "source": [
    "# test fraction code\n",
    "def get_fractions(getting_result, test_array):\n",
    "    result = []\n",
    "    total_use = 0\n",
    "    dist_4 = 0\n",
    "    dist_2 = 0\n",
    "    dist_1 = 0\n",
    "    dist_05 = 0\n",
    "    dist_025 = 0\n",
    "    for i in range(len(test_array)):\n",
    "        for j in range(len(test_array[i])):\n",
    "            if test_array[i][j] != 0:\n",
    "                total_use += 1\n",
    "                if np.abs(test_array[i][j]-getting_result[i][j]) <= 4:\n",
    "                    dist_4 += 1\n",
    "                if np.abs(test_array[i][j]-getting_result[i][j]) <= 2:\n",
    "                    dist_2 += 1\n",
    "                if np.abs(test_array[i][j]-getting_result[i][j]) <= 1:\n",
    "                    dist_1 += 1\n",
    "                if np.abs(test_array[i][j]-getting_result[i][j]) <= 0.5:\n",
    "                    dist_05 += 1\n",
    "                if np.abs(test_array[i][j]-getting_result[i][j]) <= 0.25:\n",
    "                    dist_025 += 1\n",
    "    result.append(total_use)\n",
    "    result.append(dist_4/total_use)\n",
    "    result.append(dist_2/total_use)\n",
    "    result.append(dist_1/total_use)\n",
    "    result.append(dist_05/total_use)\n",
    "    result.append(dist_025/total_use)\n",
    "    \n",
    "    return result"
   ]
  },
  {
   "cell_type": "markdown",
   "id": "6a40dd64",
   "metadata": {},
   "source": [
    "<font color=black size=5>Apply the New Algorithm to the Images</font>"
   ]
  },
  {
   "cell_type": "code",
   "execution_count": 304,
   "id": "8626c4a7",
   "metadata": {},
   "outputs": [],
   "source": [
    "# experiment part\n",
    "# apply the new algorithm to the images\n",
    "time_spend = []\n",
    "final_array_list = []\n",
    "for image_index in range(len(left_images)):\n",
    "    left = cv2.imread(os.path.join(direct, left_images[image_index]), cv2.IMREAD_GRAYSCALE)\n",
    "    right = cv2.imread(os.path.join(direct, right_images[image_index]), cv2.IMREAD_GRAYSCALE)\n",
    "\n",
    "    start = time.time()\n",
    "    # gaussian method\n",
    "    gau_kernel = cv2.getGaussianKernel(7, -1)\n",
    "    gau_kern2d = np.outer(gau_kernel, gau_kernel)\n",
    "    gau_kern2d = gau_kern2d / gau_kern2d.sum()\n",
    "    gau_left = cv2.filter2D(left, -1, gau_kern2d)\n",
    "    gau_right = cv2.filter2D(right, -1, gau_kern2d)\n",
    "    len_col = len(left[0])\n",
    "\n",
    "    result_image = []\n",
    "    for row_index in range(len(gau_left)):\n",
    "        dis = new_approach(gau_left, gau_right, row_index, len_col)\n",
    "        # delete the first and last element in the list dis_result, to get the same dimension as our original image\n",
    "        result_image.append(dis[1:len(dis) - 1])\n",
    "\n",
    "    # vertical smooth application\n",
    "    final_list = vertical_smooth(result_image)\n",
    "    final_array = np.array(final_list).T\n",
    "    \n",
    "    end = time.time()\n",
    "    total_time = end - start\n",
    "    \n",
    "    final_array_list.append(final_array)\n",
    "    time_spend.append(total_time)"
   ]
  },
  {
   "cell_type": "markdown",
   "id": "5be0dae3",
   "metadata": {},
   "source": [
    "<font color=black size=5>Test Period for the New Algorithm Results</font>"
   ]
  },
  {
   "cell_type": "code",
   "execution_count": 305,
   "id": "b0cd16ee",
   "metadata": {},
   "outputs": [],
   "source": [
    "# test period for the new algorithm results\n",
    "SR_mean = []\n",
    "frac_values = []\n",
    "for image_index in range(len(disparity_images)):\n",
    "    test_array = cv2.imread(os.path.join(direct, disparity_images[image_index]), cv2.IMREAD_GRAYSCALE)\n",
    "    m1 = get_square_error(final_array_list[image_index], test_array)\n",
    "    m2 = get_fractions(final_array_list[image_index], test_array)\n",
    "    SR_mean.append(m1)\n",
    "    frac_values.append(m2)"
   ]
  },
  {
   "cell_type": "markdown",
   "id": "f0920e9b",
   "metadata": {},
   "source": [
    "<font color=black size=5>RMS Value (New Algorithm)</font>"
   ]
  },
  {
   "cell_type": "code",
   "execution_count": 306,
   "id": "8c49a0f4",
   "metadata": {},
   "outputs": [
    {
     "data": {
      "text/plain": [
       "[14.616199777574728,\n",
       " 9.188703542975087,\n",
       " 20.340285946019442,\n",
       " 12.364887589050632,\n",
       " 15.438134818192164,\n",
       " 23.498191506332088,\n",
       " 21.386510172302444,\n",
       " 25.774188064448836,\n",
       " 28.37756878472,\n",
       " 20.95014863216363,\n",
       " 23.023883503596245,\n",
       " 34.32797596618543,\n",
       " 20.62274086044277,\n",
       " 29.679944529385516,\n",
       " 18.597685065198327,\n",
       " 17.374144155928143,\n",
       " 28.08354449046399,\n",
       " 15.305453655811439,\n",
       " 20.603690638973948,\n",
       " 18.63913582228933,\n",
       " 24.97462698583409,\n",
       " 25.9543081565274,\n",
       " 21.819109106131876,\n",
       " 25.114244520850647,\n",
       " 6.853591596100471]"
      ]
     },
     "execution_count": 306,
     "metadata": {},
     "output_type": "execute_result"
    }
   ],
   "source": [
    "SR_mean"
   ]
  },
  {
   "cell_type": "markdown",
   "id": "2ef4ddd8",
   "metadata": {},
   "source": [
    "<font color=black size=5>Fraction Value (New Algorithm)</font>"
   ]
  },
  {
   "cell_type": "code",
   "execution_count": 307,
   "id": "64363b59",
   "metadata": {
    "scrolled": true
   },
   "outputs": [
    {
     "data": {
      "text/plain": [
       "[[90029,\n",
       "  0.6586433260393874,\n",
       "  0.5882437881127193,\n",
       "  0.459029868153595,\n",
       "  0.18508480600695332,\n",
       "  0.18508480600695332],\n",
       " [86686,\n",
       "  0.7634681494128233,\n",
       "  0.6830976166855086,\n",
       "  0.4823846987979605,\n",
       "  0.16201001315091249,\n",
       "  0.16201001315091249],\n",
       " [90095,\n",
       "  0.4902380820245297,\n",
       "  0.4511904101226483,\n",
       "  0.3531716521449581,\n",
       "  0.1442921360785837,\n",
       "  0.1442921360785837],\n",
       " [67829,\n",
       "  0.7241445399460408,\n",
       "  0.6059797431776969,\n",
       "  0.38244703592858514,\n",
       "  0.12409146530245176,\n",
       "  0.12409146530245176],\n",
       " [80424,\n",
       "  0.6271635332736497,\n",
       "  0.543855068138864,\n",
       "  0.4123022978215458,\n",
       "  0.1663185118869989,\n",
       "  0.1663185118869989],\n",
       " [89719,\n",
       "  0.5223308329339382,\n",
       "  0.3851469588381502,\n",
       "  0.260346191999465,\n",
       "  0.09388200938485716,\n",
       "  0.09388200938485716],\n",
       " [74098,\n",
       "  0.5143323706442819,\n",
       "  0.4427784825501363,\n",
       "  0.3706847688196713,\n",
       "  0.15656293017355394,\n",
       "  0.15656293017355394],\n",
       " [95184,\n",
       "  0.4979723482938309,\n",
       "  0.43430618591359893,\n",
       "  0.3340057152462599,\n",
       "  0.13751260716086738,\n",
       "  0.13751260716086738],\n",
       " [98544,\n",
       "  0.43277114791362237,\n",
       "  0.3815655950641338,\n",
       "  0.30024151647994807,\n",
       "  0.11387806462088002,\n",
       "  0.11387806462088002],\n",
       " [61574,\n",
       "  0.6724753954591224,\n",
       "  0.5870010069185045,\n",
       "  0.4957936791502907,\n",
       "  0.22170071783545003,\n",
       "  0.22170071783545003],\n",
       " [56062,\n",
       "  0.5541543291355999,\n",
       "  0.5245620919696051,\n",
       "  0.4253683421925725,\n",
       "  0.1718097820270415,\n",
       "  0.1718097820270415],\n",
       " [78559,\n",
       "  0.3106836899655036,\n",
       "  0.2525363102890821,\n",
       "  0.19096475260632137,\n",
       "  0.07524281113557962,\n",
       "  0.07524281113557962],\n",
       " [76385,\n",
       "  0.4941938862342083,\n",
       "  0.4255416639392551,\n",
       "  0.3212672645152844,\n",
       "  0.11867513255220266,\n",
       "  0.11867513255220266],\n",
       " [71690,\n",
       "  0.4116473706235179,\n",
       "  0.3320128330311061,\n",
       "  0.25624215371739434,\n",
       "  0.10153438415399638,\n",
       "  0.10153438415399638],\n",
       " [58322,\n",
       "  0.4924385309145777,\n",
       "  0.4048386543671342,\n",
       "  0.3069682109667021,\n",
       "  0.13096258701690613,\n",
       "  0.13096258701690613],\n",
       " [87036,\n",
       "  0.6158026563720759,\n",
       "  0.5179925548049084,\n",
       "  0.3611264304425755,\n",
       "  0.13708120777609265,\n",
       "  0.13708120777609265],\n",
       " [83668,\n",
       "  0.45045895682937326,\n",
       "  0.36759573552612707,\n",
       "  0.2511832480757279,\n",
       "  0.09718171821962997,\n",
       "  0.09718171821962997],\n",
       " [60912,\n",
       "  0.5445560809035986,\n",
       "  0.4797412660887838,\n",
       "  0.39951076963488313,\n",
       "  0.1720679012345679,\n",
       "  0.1720679012345679],\n",
       " [104906,\n",
       "  0.5338016891312223,\n",
       "  0.4509656263702743,\n",
       "  0.31834213486359214,\n",
       "  0.11936400205898615,\n",
       "  0.11936400205898615],\n",
       " [88149,\n",
       "  0.5000623943550125,\n",
       "  0.4256542898955178,\n",
       "  0.31239151890548955,\n",
       "  0.12200932511996733,\n",
       "  0.12200932511996733],\n",
       " [84412,\n",
       "  0.4804293228450931,\n",
       "  0.3810595649907596,\n",
       "  0.263599962090698,\n",
       "  0.1013599962090698,\n",
       "  0.1013599962090698],\n",
       " [71163,\n",
       "  0.4240827396259292,\n",
       "  0.3305088318367691,\n",
       "  0.2380872082402372,\n",
       "  0.09533043857060551,\n",
       "  0.09533043857060551],\n",
       " [69190,\n",
       "  0.5872235872235873,\n",
       "  0.509394421159127,\n",
       "  0.397456279809221,\n",
       "  0.16016765428530133,\n",
       "  0.16016765428530133],\n",
       " [73780,\n",
       "  0.44116291677961506,\n",
       "  0.3601382488479263,\n",
       "  0.28896719978313906,\n",
       "  0.1212252642992681,\n",
       "  0.1212252642992681],\n",
       " [84965,\n",
       "  0.7242982404519508,\n",
       "  0.6210674983816866,\n",
       "  0.4918378155711175,\n",
       "  0.20967457188253988,\n",
       "  0.20967457188253988]]"
      ]
     },
     "execution_count": 307,
     "metadata": {},
     "output_type": "execute_result"
    }
   ],
   "source": [
    "frac_values"
   ]
  },
  {
   "cell_type": "markdown",
   "id": "f1928cb9",
   "metadata": {},
   "source": [
    "<font color=black size=5>Time Spend in Seconds (New Algorithm)</font>"
   ]
  },
  {
   "cell_type": "code",
   "execution_count": 308,
   "id": "19dbf523",
   "metadata": {},
   "outputs": [
    {
     "data": {
      "text/plain": [
       "[3.6305959224700928,\n",
       " 1.8566169738769531,\n",
       " 1.7099907398223877,\n",
       " 1.6637818813323975,\n",
       " 1.6830182075500488,\n",
       " 1.7470359802246094,\n",
       " 1.6531503200531006,\n",
       " 1.6452341079711914,\n",
       " 1.617426872253418,\n",
       " 1.6474571228027344,\n",
       " 1.5728330612182617,\n",
       " 1.631828784942627,\n",
       " 1.6472647190093994,\n",
       " 1.6029791831970215,\n",
       " 1.6409978866577148,\n",
       " 1.664302110671997,\n",
       " 1.615062952041626,\n",
       " 1.6652131080627441,\n",
       " 1.6493680477142334,\n",
       " 1.6686241626739502,\n",
       " 1.6326463222503662,\n",
       " 1.615049123764038,\n",
       " 1.6532797813415527,\n",
       " 1.699186086654663,\n",
       " 1.6669130325317383]"
      ]
     },
     "execution_count": 308,
     "metadata": {},
     "output_type": "execute_result"
    }
   ],
   "source": [
    "time_spend"
   ]
  },
  {
   "cell_type": "markdown",
   "id": "3603895d",
   "metadata": {},
   "source": [
    "<font color=black size=5>Apply the Baseline Algorithm to the Images</font>"
   ]
  },
  {
   "cell_type": "code",
   "execution_count": 309,
   "id": "bfa1882b",
   "metadata": {},
   "outputs": [],
   "source": [
    "# apply the baseline algorithm to the images\n",
    "old_time_spend = []\n",
    "old_final_array_list = []\n",
    "for image_index in range(len(left_images)):\n",
    "    \n",
    "    left = cv2.imread(os.path.join(direct, left_images[image_index]), cv2.IMREAD_GRAYSCALE)\n",
    "    right = cv2.imread(os.path.join(direct, right_images[image_index]), cv2.IMREAD_GRAYSCALE)\n",
    "\n",
    "    start = time.time()\n",
    "    # gaussian method\n",
    "    gau_kernel = cv2.getGaussianKernel(7, -1)\n",
    "    gau_kern2d = np.outer(gau_kernel, gau_kernel)\n",
    "    gau_kern2d = gau_kern2d / gau_kern2d.sum()\n",
    "    gau_left = cv2.filter2D(left, -1, gau_kern2d)\n",
    "    gau_right = cv2.filter2D(right, -1, gau_kern2d)\n",
    "    \n",
    "    # the window size we choose is 8\n",
    "    distance_array = baseline_model_NCC(gau_left, gau_right, 8)\n",
    "    \n",
    "    end = time.time()\n",
    "    total_time = end - start\n",
    "    \n",
    "    old_final_array_list.append(distance_array)\n",
    "    old_time_spend.append(total_time)"
   ]
  },
  {
   "cell_type": "markdown",
   "id": "1c31b82b",
   "metadata": {},
   "source": [
    "<font color=black size=5>Test Period for the Baseline Algorithm Results</font>"
   ]
  },
  {
   "cell_type": "code",
   "execution_count": 310,
   "id": "4f864cb4",
   "metadata": {},
   "outputs": [],
   "source": [
    "# test period for the baseline algorithm results\n",
    "old_SR_mean = []\n",
    "old_frac_values = []\n",
    "for image_index in range(len(disparity_images)):\n",
    "    test_array = cv2.imread(os.path.join(direct, disparity_images[image_index]), cv2.IMREAD_GRAYSCALE)\n",
    "    m1 = get_square_error(old_final_array_list[image_index], test_array)\n",
    "    m2 = get_fractions(old_final_array_list[image_index], test_array)\n",
    "    old_SR_mean.append(m1)\n",
    "    old_frac_values.append(m2)"
   ]
  },
  {
   "cell_type": "markdown",
   "id": "fee5accc",
   "metadata": {},
   "source": [
    "<font color=black size=5>RMS Value (Baseline Algorithm)</font>"
   ]
  },
  {
   "cell_type": "code",
   "execution_count": 311,
   "id": "53e08018",
   "metadata": {},
   "outputs": [
    {
     "data": {
      "text/plain": [
       "[414.6962470780688,\n",
       " 414.673850975978,\n",
       " 478.15249343856766,\n",
       " 349.05794671004895,\n",
       " 382.3557838930577,\n",
       " 437.84352226371556,\n",
       " 372.348407808083,\n",
       " 419.9243791809937,\n",
       " 437.92210440245356,\n",
       " 405.75859300121886,\n",
       " 419.3145817763114,\n",
       " 436.69129843161824,\n",
       " 383.7042488930465,\n",
       " 433.2203111546494,\n",
       " 381.47676176872847,\n",
       " 436.528934968104,\n",
       " 431.60580526483716,\n",
       " 418.040304890572,\n",
       " 437.7513464196363,\n",
       " 454.9491086545688,\n",
       " 412.3060704334207,\n",
       " 440.51195244961644,\n",
       " 433.40038512741074,\n",
       " 432.7093898464225,\n",
       " 436.6558743900305]"
      ]
     },
     "execution_count": 311,
     "metadata": {},
     "output_type": "execute_result"
    }
   ],
   "source": [
    "old_SR_mean"
   ]
  },
  {
   "cell_type": "markdown",
   "id": "0217643e",
   "metadata": {},
   "source": [
    "<font color=black size=5>Fraction Value (Baseline Algorithm)</font>"
   ]
  },
  {
   "cell_type": "code",
   "execution_count": 312,
   "id": "4669597f",
   "metadata": {},
   "outputs": [
    {
     "data": {
      "text/plain": [
       "[[90029,\n",
       "  0.011773983938508703,\n",
       "  0.008308433949060858,\n",
       "  0.006098035077586111,\n",
       "  0.0004665163447333637,\n",
       "  0.0004665163447333637],\n",
       " [86686,\n",
       "  0.023660106591606486,\n",
       "  0.016288674065016266,\n",
       "  0.01252797452875897,\n",
       "  0.006148628382899199,\n",
       "  0.006148628382899199],\n",
       " [90095,\n",
       "  0.013408069260225317,\n",
       "  0.008368943892557856,\n",
       "  0.0056717908873966365,\n",
       "  0.0029191409068205785,\n",
       "  0.0029191409068205785],\n",
       " [67829,\n",
       "  0.02643412109864512,\n",
       "  0.011735393415795603,\n",
       "  0.004304943313332056,\n",
       "  0.0010320069586754927,\n",
       "  0.0010320069586754927],\n",
       " [80424,\n",
       "  0.022406246891475183,\n",
       "  0.013366656719387247,\n",
       "  0.007124738883915249,\n",
       "  0.0030712225206406046,\n",
       "  0.0030712225206406046],\n",
       " [89719,\n",
       "  0.012583733657307817,\n",
       "  0.008560059742083617,\n",
       "  0.005829311517069963,\n",
       "  0.002151160846643409,\n",
       "  0.002151160846643409],\n",
       " [74098,\n",
       "  0.02381980620259656,\n",
       "  0.012766876298955437,\n",
       "  0.009446948635590703,\n",
       "  0.0018084158816702206,\n",
       "  0.0018084158816702206],\n",
       " [95184,\n",
       "  0.012249957976130443,\n",
       "  0.006723819129265423,\n",
       "  0.0035194990754748696,\n",
       "  0.0009245251302739956,\n",
       "  0.0009245251302739956],\n",
       " [98544,\n",
       "  0.016540834551063484,\n",
       "  0.011883016723494073,\n",
       "  0.005926286734859555,\n",
       "  0.0024253125507387565,\n",
       "  0.0024253125507387565],\n",
       " [61574,\n",
       "  0.033195829408516585,\n",
       "  0.021161529216877254,\n",
       "  0.013268587390781824,\n",
       "  0.006301360964043265,\n",
       "  0.006301360964043265],\n",
       " [56062,\n",
       "  0.02602475830330705,\n",
       "  0.018640077057543433,\n",
       "  0.007170632514002354,\n",
       "  0.0026934465413292427,\n",
       "  0.0026934465413292427],\n",
       " [78559,\n",
       "  0.02167797451596889,\n",
       "  0.012067363382935119,\n",
       "  0.007917616059267557,\n",
       "  0.003029570132002699,\n",
       "  0.003029570132002699],\n",
       " [76385,\n",
       "  0.02427178110885645,\n",
       "  0.011913333769719186,\n",
       "  0.006139948942855272,\n",
       "  0.0018982784578123978,\n",
       "  0.0018982784578123978],\n",
       " [71690,\n",
       "  0.02065839029153299,\n",
       "  0.013781559492258335,\n",
       "  0.0061793834565490304,\n",
       "  0.0014227925791602733,\n",
       "  0.0014227925791602733],\n",
       " [58322,\n",
       "  0.013425465519015124,\n",
       "  0.008607386577963718,\n",
       "  0.006189774013236857,\n",
       "  0.00270909776756627,\n",
       "  0.00270909776756627],\n",
       " [87036,\n",
       "  0.01705041591984926,\n",
       "  0.011397582609494921,\n",
       "  0.007054552139344639,\n",
       "  0.001551082310767958,\n",
       "  0.001551082310767958],\n",
       " [83668,\n",
       "  0.008904240569871396,\n",
       "  0.005689152364105751,\n",
       "  0.0007171200458956829,\n",
       "  0.00015537600994406463,\n",
       "  0.00015537600994406463],\n",
       " [60912,\n",
       "  0.02229445757814552,\n",
       "  0.00960401891252955,\n",
       "  0.007716049382716049,\n",
       "  0.0024297346992382452,\n",
       "  0.0024297346992382452],\n",
       " [104906,\n",
       "  0.012420643242521876,\n",
       "  0.007130192743980325,\n",
       "  0.004585057098736012,\n",
       "  0.0018492745886793892,\n",
       "  0.0018492745886793892],\n",
       " [88149,\n",
       "  0.018911161782890335,\n",
       "  0.00983561923561243,\n",
       "  0.004968859544634652,\n",
       "  0.0013953646666439777,\n",
       "  0.0013953646666439777],\n",
       " [84412,\n",
       "  0.016478699710941572,\n",
       "  0.010602757901720135,\n",
       "  0.005342842249917074,\n",
       "  0.001931005070369142,\n",
       "  0.001931005070369142],\n",
       " [71163,\n",
       "  0.02261006421876537,\n",
       "  0.013195059230217951,\n",
       "  0.0070963843570394725,\n",
       "  0.0038503154729283475,\n",
       "  0.0038503154729283475],\n",
       " [69190,\n",
       "  0.010348316230669171,\n",
       "  0.005535482006070241,\n",
       "  0.0030929325046972107,\n",
       "  0.0009105362046538517,\n",
       "  0.0009105362046538517],\n",
       " [73780,\n",
       "  0.012306858227161833,\n",
       "  0.009433450799674708,\n",
       "  0.00670913526701003,\n",
       "  0.004079696394686907,\n",
       "  0.004079696394686907],\n",
       " [84965,\n",
       "  0.016218442888248103,\n",
       "  0.00902724651327017,\n",
       "  0.004272347437180015,\n",
       "  0.0010357205908315189,\n",
       "  0.0010357205908315189]]"
      ]
     },
     "execution_count": 312,
     "metadata": {},
     "output_type": "execute_result"
    }
   ],
   "source": [
    "old_frac_values"
   ]
  },
  {
   "cell_type": "markdown",
   "id": "9e9be572",
   "metadata": {},
   "source": [
    "<font color=black size=5>Time Spend in Seconds (Baseline Algorithm)</font>"
   ]
  },
  {
   "cell_type": "code",
   "execution_count": 313,
   "id": "492fa370",
   "metadata": {
    "scrolled": true
   },
   "outputs": [
    {
     "data": {
      "text/plain": [
       "[3.7975728511810303,\n",
       " 3.8121321201324463,\n",
       " 3.804723024368286,\n",
       " 3.7135400772094727,\n",
       " 3.7830650806427,\n",
       " 3.7686727046966553,\n",
       " 3.8267462253570557,\n",
       " 3.8603668212890625,\n",
       " 3.8506228923797607,\n",
       " 3.780919075012207,\n",
       " 3.3928539752960205,\n",
       " 3.789614200592041,\n",
       " 3.773474931716919,\n",
       " 3.783841848373413,\n",
       " 3.779249906539917,\n",
       " 3.775790214538574,\n",
       " 3.7839837074279785,\n",
       " 3.817819118499756,\n",
       " 3.8017048835754395,\n",
       " 3.7709031105041504,\n",
       " 3.696249008178711,\n",
       " 3.7763593196868896,\n",
       " 3.7734241485595703,\n",
       " 3.7833080291748047,\n",
       " 3.769213914871216]"
      ]
     },
     "execution_count": 313,
     "metadata": {},
     "output_type": "execute_result"
    }
   ],
   "source": [
    "old_time_spend"
   ]
  },
  {
   "cell_type": "markdown",
   "id": "59c5132b",
   "metadata": {},
   "source": [
    "<font color=black size=5>RMS Plot (Baseline Algorithm)</font>"
   ]
  },
  {
   "cell_type": "code",
   "execution_count": 314,
   "id": "6fe56f7e",
   "metadata": {},
   "outputs": [
    {
     "data": {
      "image/png": "[encoded data removed]",
      "text/plain": [
       "<Figure size 432x288 with 1 Axes>"
      ]
     },
     "metadata": {
      "needs_background": "light"
     },
     "output_type": "display_data"
    }
   ],
   "source": [
    "# data visualization (RMS for the baseline algorithm result)\n",
    "plot_label = []\n",
    "for one_name in image_name:\n",
    "    plot_label.append(one_name.split('-')[11])\n",
    "\n",
    "plt.plot(plot_label, old_SR_mean, color='green', label='baseline')\n",
    "\n",
    "plt.title('Square Root Mean (baseline)')\n",
    "plt.xlabel('image number (last three)')\n",
    "plt.ylabel('square root mean')\n",
    "plt.xticks(rotation=90)\n",
    "\n",
    "plt.show()"
   ]
  },
  {
   "cell_type": "markdown",
   "id": "429eb475",
   "metadata": {},
   "source": [
    "<font color=black size=5>RMS Plot (New Algorithm)</font>"
   ]
  },
  {
   "cell_type": "code",
   "execution_count": 315,
   "id": "d23e8d21",
   "metadata": {},
   "outputs": [
    {
     "data": {
      "image/png": "[encoded data removed]",
      "text/plain": [
       "<Figure size 432x288 with 1 Axes>"
      ]
     },
     "metadata": {
      "needs_background": "light"
     },
     "output_type": "display_data"
    }
   ],
   "source": [
    "# data visualization (RMS for the new algorithm result)\n",
    "plt.plot(plot_label, SR_mean, color='red', label='new approach')\n",
    "\n",
    "plt.title('Square Root Mean (new approach)')\n",
    "plt.xlabel('image number (last three)')\n",
    "plt.ylabel('square root mean')\n",
    "plt.xticks(rotation=90)\n",
    "\n",
    "plt.show()"
   ]
  },
  {
   "cell_type": "markdown",
   "id": "6a08cf9f",
   "metadata": {},
   "source": [
    "<font color=black size=5>Fraction Plot (Baseline Algorithm)</font>"
   ]
  },
  {
   "cell_type": "code",
   "execution_count": 316,
   "id": "d9f6b6a9",
   "metadata": {},
   "outputs": [
    {
     "data": {
      "image/png": "[encoded data removed]",
      "text/plain": [
       "<Figure size 432x288 with 1 Axes>"
      ]
     },
     "metadata": {
      "needs_background": "light"
     },
     "output_type": "display_data"
    }
   ],
   "source": [
    "# data visualization (fraction values for the baseline algorithm result)\n",
    "ol4, ol2, ol1, ol05, ol025 = [], [], [], [], []\n",
    "for i in old_frac_values:\n",
    "    ol4.append(i[1])\n",
    "    ol2.append(i[2])\n",
    "    ol1.append(i[3])\n",
    "    ol05.append(i[4])\n",
    "    ol025.append(i[5])\n",
    "\n",
    "plt.plot(plot_label, ol4, color='green', label='4 pixels')\n",
    "plt.plot(plot_label, ol2, color='red', label='2 pixels')\n",
    "plt.plot(plot_label, ol1, color='orange', label='1 pixels')\n",
    "plt.plot(plot_label, ol05, color='blue', label='0.5 pixels')\n",
    "plt.plot(plot_label, ol025, color='black', label='0.25 pixels')\n",
    "\n",
    "plt.title('Fraction Values (baseline)')\n",
    "plt.xlabel('image number (last three)')\n",
    "plt.ylabel('fraction value')\n",
    "plt.xticks(rotation=90)\n",
    "plt.legend()\n",
    "\n",
    "plt.show()"
   ]
  },
  {
   "cell_type": "markdown",
   "id": "9a8785cf",
   "metadata": {},
   "source": [
    "<font color=black size=5>Fraction Plot (New Algorithm)</font>"
   ]
  },
  {
   "cell_type": "code",
   "execution_count": 317,
   "id": "7ab59e5b",
   "metadata": {},
   "outputs": [
    {
     "data": {
      "image/png": "[encoded data removed]",
      "text/plain": [
       "<Figure size 432x288 with 1 Axes>"
      ]
     },
     "metadata": {
      "needs_background": "light"
     },
     "output_type": "display_data"
    }
   ],
   "source": [
    "# data visualization (fraction values for the new algorithm result)\n",
    "nl4, nl2, nl1, nl05, nl025 = [], [], [], [], []\n",
    "for i in frac_values:\n",
    "    nl4.append(i[1])\n",
    "    nl2.append(i[2])\n",
    "    nl1.append(i[3])\n",
    "    nl05.append(i[4])\n",
    "    nl025.append(i[5])\n",
    "\n",
    "plt.plot(plot_label, nl4, color='green', label='4 pixels')\n",
    "plt.plot(plot_label, nl2, color='red', label='2 pixels')\n",
    "plt.plot(plot_label, nl1, color='orange', label='1 pixels')\n",
    "plt.plot(plot_label, nl05, color='blue', label='0.5 pixels')\n",
    "plt.plot(plot_label, nl025, color='black', label='0.25 pixels')\n",
    "\n",
    "plt.title('Fraction Values (new approach)')\n",
    "plt.xlabel('image number (last three)')\n",
    "plt.ylabel('fraction value')\n",
    "plt.xticks(rotation=90)\n",
    "plt.legend()\n",
    "\n",
    "plt.show()"
   ]
  },
  {
   "cell_type": "markdown",
   "id": "393b2aaa",
   "metadata": {},
   "source": [
    "<font color=black size=5>Running Time (Two Algorithms Comparison)</font>"
   ]
  },
  {
   "cell_type": "code",
   "execution_count": 318,
   "id": "fa21bf2f",
   "metadata": {},
   "outputs": [
    {
     "data": {
      "image/png": "[encoded data removed]",
      "text/plain": [
       "<Figure size 432x288 with 1 Axes>"
      ]
     },
     "metadata": {
      "needs_background": "light"
     },
     "output_type": "display_data"
    }
   ],
   "source": [
    "# data visualization (running time comparison for the baseline algorithm and the new algorithm)\n",
    "plt.plot(plot_label, old_time_spend, color='green', label='baseline')\n",
    "plt.plot(plot_label, time_spend, color='red', label='new approach')\n",
    "\n",
    "plt.title('Running Time for Each Image')\n",
    "plt.xlabel('image number (last three)')\n",
    "plt.ylabel('second')\n",
    "plt.xticks(rotation=90)\n",
    "plt.legend()\n",
    "\n",
    "plt.show()"
   ]
  }
 ],
 "metadata": {
  "kernelspec": {
   "display_name": "Python 3",
   "language": "python",
   "name": "python3"
  },
  "language_info": {
   "codemirror_mode": {
    "name": "ipython",
    "version": 3
   },
   "file_extension": ".py",
   "mimetype": "text/x-python",
   "name": "python",
   "nbconvert_exporter": "python",
   "pygments_lexer": "ipython3",
   "version": "3.8.8"
  }
 },
 "nbformat": 4,
 "nbformat_minor": 5
}
